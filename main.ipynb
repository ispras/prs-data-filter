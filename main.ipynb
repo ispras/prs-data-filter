{
 "cells": [
  {
   "cell_type": "markdown",
   "metadata": {},
   "source": [
    "## Подсчет PRS на новых данных \n",
    "Необходимо:\n",
    "1. Извлечь данные фенотипов из таблички + z-score\n",
    "2. Смерджить bed файлы в один\n",
    "3. Посчитать PRS\n",
    "4. Построить график https://drive.google.com/drive/folders/1Qfh55NF8Vs1-V_PNCQGOM0XweBprjGgB (с и d)"
   ]
  },
  {
   "cell_type": "markdown",
   "metadata": {},
   "source": [
    "### 1. Извлечь данные фенотипов из таблички + z-score"
   ]
  },
  {
   "cell_type": "code",
   "execution_count": 2,
   "metadata": {},
   "outputs": [],
   "source": [
    "import pandas as pd\n",
    "from scipy.stats import zscore\n",
    "from difflib import SequenceMatcher\n",
    "import numpy as np"
   ]
  },
  {
   "cell_type": "code",
   "execution_count": 3,
   "metadata": {},
   "outputs": [
    {
     "data": {
      "text/html": [
       "<div>\n",
       "<style scoped>\n",
       "    .dataframe tbody tr th:only-of-type {\n",
       "        vertical-align: middle;\n",
       "    }\n",
       "\n",
       "    .dataframe tbody tr th {\n",
       "        vertical-align: top;\n",
       "    }\n",
       "\n",
       "    .dataframe thead th {\n",
       "        text-align: right;\n",
       "    }\n",
       "</style>\n",
       "<table border=\"1\" class=\"dataframe\">\n",
       "  <thead>\n",
       "    <tr style=\"text-align: right;\">\n",
       "      <th></th>\n",
       "      <th>Наименование файла</th>\n",
       "      <th>ID</th>\n",
       "      <th>Направление</th>\n",
       "      <th>Вес</th>\n",
       "      <th>Рост</th>\n",
       "      <th>Полных лет</th>\n",
       "      <th>Пол</th>\n",
       "    </tr>\n",
       "  </thead>\n",
       "  <tbody>\n",
       "    <tr>\n",
       "      <th>0</th>\n",
       "      <td>1112261.mm2.sortdup.bqsr.HaplotypeCaller.vcf.gz</td>\n",
       "      <td>E20B1112261</td>\n",
       "      <td>Здоровые</td>\n",
       "      <td>107.0</td>\n",
       "      <td>183.0</td>\n",
       "      <td>37.0</td>\n",
       "      <td>Мужской</td>\n",
       "    </tr>\n",
       "    <tr>\n",
       "      <th>1</th>\n",
       "      <td>1113645.mm2.sortdup.bqsr.hc.vcf.gz</td>\n",
       "      <td>E21B1113645</td>\n",
       "      <td>Здоровые</td>\n",
       "      <td>120.0</td>\n",
       "      <td>180.0</td>\n",
       "      <td>43.0</td>\n",
       "      <td>Мужской</td>\n",
       "    </tr>\n",
       "    <tr>\n",
       "      <th>2</th>\n",
       "      <td>1112646.mm2.sortdup.bqsr.HaplotypeCaller.vcf.gz</td>\n",
       "      <td>E20B1112646</td>\n",
       "      <td>Здоровые</td>\n",
       "      <td>93.0</td>\n",
       "      <td>165.0</td>\n",
       "      <td>62.0</td>\n",
       "      <td>Женский</td>\n",
       "    </tr>\n",
       "    <tr>\n",
       "      <th>3</th>\n",
       "      <td>E20B1113276.mm2.sortdup.bqsr.hc.vcf.gz</td>\n",
       "      <td>E20B1113276</td>\n",
       "      <td>Здоровые</td>\n",
       "      <td>75.0</td>\n",
       "      <td>176.0</td>\n",
       "      <td>28.0</td>\n",
       "      <td>Женский</td>\n",
       "    </tr>\n",
       "    <tr>\n",
       "      <th>4</th>\n",
       "      <td>E21B1113880.mm2.sortdup.bqsr.hc.vcf.gz</td>\n",
       "      <td>E21B1113880</td>\n",
       "      <td>Здоровые</td>\n",
       "      <td>47.0</td>\n",
       "      <td>158.0</td>\n",
       "      <td>37.0</td>\n",
       "      <td>Женский</td>\n",
       "    </tr>\n",
       "    <tr>\n",
       "      <th>...</th>\n",
       "      <td>...</td>\n",
       "      <td>...</td>\n",
       "      <td>...</td>\n",
       "      <td>...</td>\n",
       "      <td>...</td>\n",
       "      <td>...</td>\n",
       "      <td>...</td>\n",
       "    </tr>\n",
       "    <tr>\n",
       "      <th>11748</th>\n",
       "      <td>NNR00007496.mm2.sortdup.bqsr.hc.vcf.gz</td>\n",
       "      <td>NNR00007496</td>\n",
       "      <td>Здоровые</td>\n",
       "      <td>85.0</td>\n",
       "      <td>163.0</td>\n",
       "      <td>43.0</td>\n",
       "      <td>Женский</td>\n",
       "    </tr>\n",
       "    <tr>\n",
       "      <th>11749</th>\n",
       "      <td>NNR00007627.mm2.sortdup.bqsr.hc.vcf.gz</td>\n",
       "      <td>NNR00007627</td>\n",
       "      <td>Здоровые</td>\n",
       "      <td>87.0</td>\n",
       "      <td>181.0</td>\n",
       "      <td>47.0</td>\n",
       "      <td>Мужской</td>\n",
       "    </tr>\n",
       "    <tr>\n",
       "      <th>11750</th>\n",
       "      <td>NNR00007497.mm2.sortdup.bqsr.hc.vcf.gz</td>\n",
       "      <td>NNR00007497</td>\n",
       "      <td>Здоровые</td>\n",
       "      <td>70.0</td>\n",
       "      <td>164.0</td>\n",
       "      <td>42.0</td>\n",
       "      <td>Женский</td>\n",
       "    </tr>\n",
       "    <tr>\n",
       "      <th>11751</th>\n",
       "      <td>NNR00007628.mm2.sortdup.bqsr.hc.vcf.gz</td>\n",
       "      <td>NNR00007628</td>\n",
       "      <td>Здоровые</td>\n",
       "      <td>62.0</td>\n",
       "      <td>160.0</td>\n",
       "      <td>29.0</td>\n",
       "      <td>Женский</td>\n",
       "    </tr>\n",
       "    <tr>\n",
       "      <th>11752</th>\n",
       "      <td>NNR00007629.mm2.sortdup.bqsr.hc.vcf.gz</td>\n",
       "      <td>NNR00007629</td>\n",
       "      <td>Здоровые</td>\n",
       "      <td>60.0</td>\n",
       "      <td>167.0</td>\n",
       "      <td>29.0</td>\n",
       "      <td>Женский</td>\n",
       "    </tr>\n",
       "  </tbody>\n",
       "</table>\n",
       "<p>11753 rows × 7 columns</p>\n",
       "</div>"
      ],
      "text/plain": [
       "                                    Наименование файла           ID  \\\n",
       "0      1112261.mm2.sortdup.bqsr.HaplotypeCaller.vcf.gz  E20B1112261   \n",
       "1                   1113645.mm2.sortdup.bqsr.hc.vcf.gz  E21B1113645   \n",
       "2      1112646.mm2.sortdup.bqsr.HaplotypeCaller.vcf.gz  E20B1112646   \n",
       "3               E20B1113276.mm2.sortdup.bqsr.hc.vcf.gz  E20B1113276   \n",
       "4               E21B1113880.mm2.sortdup.bqsr.hc.vcf.gz  E21B1113880   \n",
       "...                                                ...          ...   \n",
       "11748           NNR00007496.mm2.sortdup.bqsr.hc.vcf.gz  NNR00007496   \n",
       "11749           NNR00007627.mm2.sortdup.bqsr.hc.vcf.gz  NNR00007627   \n",
       "11750           NNR00007497.mm2.sortdup.bqsr.hc.vcf.gz  NNR00007497   \n",
       "11751           NNR00007628.mm2.sortdup.bqsr.hc.vcf.gz  NNR00007628   \n",
       "11752           NNR00007629.mm2.sortdup.bqsr.hc.vcf.gz  NNR00007629   \n",
       "\n",
       "      Направление    Вес   Рост  Полных лет      Пол  \n",
       "0        Здоровые  107.0  183.0        37.0  Мужской  \n",
       "1        Здоровые  120.0  180.0        43.0  Мужской  \n",
       "2        Здоровые   93.0  165.0        62.0  Женский  \n",
       "3        Здоровые   75.0  176.0        28.0  Женский  \n",
       "4        Здоровые   47.0  158.0        37.0  Женский  \n",
       "...           ...    ...    ...         ...      ...  \n",
       "11748    Здоровые   85.0  163.0        43.0  Женский  \n",
       "11749    Здоровые   87.0  181.0        47.0  Мужской  \n",
       "11750    Здоровые   70.0  164.0        42.0  Женский  \n",
       "11751    Здоровые   62.0  160.0        29.0  Женский  \n",
       "11752    Здоровые   60.0  167.0        29.0  Женский  \n",
       "\n",
       "[11753 rows x 7 columns]"
      ]
     },
     "execution_count": 3,
     "metadata": {},
     "output_type": "execute_result"
    }
   ],
   "source": [
    "data = pd.read_excel('data/raw_pheno.xlsx')\n",
    "data"
   ]
  },
  {
   "cell_type": "markdown",
   "metadata": {},
   "source": [
    "## Некоторые ID не соответствуют тем, что в .fam файле, так что нужно преобразовать и попытаться найти их"
   ]
  },
  {
   "cell_type": "code",
   "execution_count": 4,
   "metadata": {},
   "outputs": [],
   "source": [
    "def find_longest_commen_end(string1, string2):\n",
    "    count = 1\n",
    "    while count < len(string1) and count < len(string2) and string1[-count] == string2[-count]:\n",
    "        count += 1\n",
    "    if count == 1:\n",
    "        return ''\n",
    "    return string1[-count:]"
   ]
  },
  {
   "cell_type": "code",
   "execution_count": 5,
   "metadata": {},
   "outputs": [],
   "source": [
    "def seek_for_id(data_id, fam_id, exact_match=[]):\n",
    "    closest_match_str = ''\n",
    "    max_len = 0\n",
    "    for true_id in fam_id:\n",
    "        # Exact match\n",
    "        if true_id == data_id:\n",
    "            exact_match.append(true_id)\n",
    "            return true_id\n",
    "        match_str = find_longest_commen_end(true_id, data_id)\n",
    "        if len(match_str) > max_len:\n",
    "            max_len = len(match_str)\n",
    "            closest_match_str = match_str\n",
    "    # print(f'No exact id for \"{data_id}\", closest found is \"{closest_match_str}\"')\n",
    "    return closest_match_str"
   ]
  },
  {
   "cell_type": "code",
   "execution_count": 6,
   "metadata": {},
   "outputs": [],
   "source": [
    "fam_data = pd.read_csv('data/merged.fam', delimiter=' ', header=None)\n",
    "fam_id = fam_data[0]"
   ]
  },
  {
   "cell_type": "code",
   "execution_count": 7,
   "metadata": {},
   "outputs": [],
   "source": [
    "exact_match = []\n",
    "data['clean_id'] = data['ID'].apply(lambda x: seek_for_id(str(x), fam_id, exact_match))"
   ]
  },
  {
   "cell_type": "code",
   "execution_count": 8,
   "metadata": {},
   "outputs": [
    {
     "data": {
      "text/html": [
       "<div>\n",
       "<style scoped>\n",
       "    .dataframe tbody tr th:only-of-type {\n",
       "        vertical-align: middle;\n",
       "    }\n",
       "\n",
       "    .dataframe tbody tr th {\n",
       "        vertical-align: top;\n",
       "    }\n",
       "\n",
       "    .dataframe thead th {\n",
       "        text-align: right;\n",
       "    }\n",
       "</style>\n",
       "<table border=\"1\" class=\"dataframe\">\n",
       "  <thead>\n",
       "    <tr style=\"text-align: right;\">\n",
       "      <th></th>\n",
       "      <th>clean_id</th>\n",
       "      <th>ID</th>\n",
       "    </tr>\n",
       "  </thead>\n",
       "  <tbody>\n",
       "    <tr>\n",
       "      <th>725</th>\n",
       "      <td>1111669</td>\n",
       "      <td>E20B1111669</td>\n",
       "    </tr>\n",
       "    <tr>\n",
       "      <th>1590</th>\n",
       "      <td>1112060</td>\n",
       "      <td>E20B1112060</td>\n",
       "    </tr>\n",
       "    <tr>\n",
       "      <th>1726</th>\n",
       "      <td>4030953</td>\n",
       "      <td>19B4030953</td>\n",
       "    </tr>\n",
       "    <tr>\n",
       "      <th>2134</th>\n",
       "      <td>4030965</td>\n",
       "      <td>19B4030965</td>\n",
       "    </tr>\n",
       "    <tr>\n",
       "      <th>3155</th>\n",
       "      <td>1112003</td>\n",
       "      <td>E20B1112003</td>\n",
       "    </tr>\n",
       "  </tbody>\n",
       "</table>\n",
       "</div>"
      ],
      "text/plain": [
       "     clean_id           ID\n",
       "725   1111669  E20B1111669\n",
       "1590  1112060  E20B1112060\n",
       "1726  4030953   19B4030953\n",
       "2134  4030965   19B4030965\n",
       "3155  1112003  E20B1112003"
      ]
     },
     "execution_count": 8,
     "metadata": {},
     "output_type": "execute_result"
    }
   ],
   "source": [
    "data[(data['clean_id'].duplicated(keep=False)) & (data['clean_id'].astype(str) != data['ID'].astype(str))][['clean_id', 'ID']]"
   ]
  },
  {
   "cell_type": "code",
   "execution_count": 9,
   "metadata": {},
   "outputs": [],
   "source": [
    "not_taken_fam_id = list(set(fam_id) - set(exact_match))"
   ]
  },
  {
   "cell_type": "code",
   "execution_count": 10,
   "metadata": {},
   "outputs": [
    {
     "data": {
      "text/plain": [
       "725     2669\n",
       "1590    3060\n",
       "1726    1953\n",
       "2134    1965\n",
       "3155    3003\n",
       "Name: ID, dtype: object"
      ]
     },
     "execution_count": 10,
     "metadata": {},
     "output_type": "execute_result"
    }
   ],
   "source": [
    "hm = data[(data['clean_id'].duplicated(keep=False)) & (data['clean_id'].astype(str) != data['ID'].astype(str))]['ID'].apply(lambda x: seek_for_id(str(x), not_taken_fam_id))\n",
    "hm"
   ]
  },
  {
   "cell_type": "code",
   "execution_count": 11,
   "metadata": {},
   "outputs": [],
   "source": [
    "# Лучше просто удалить\n",
    "data.loc[data[(data['clean_id'].duplicated(keep=False)) & (data['clean_id'].astype(str) != data['ID'].astype(str))].index, 'clean_id'] = np.nan\n",
    "data[(data['clean_id'].duplicated(keep=False)) & (data['clean_id'].astype(str) != data['ID'].astype(str))]['clean_id']\n",
    "data.to_csv('data/clean_id.csv', sep='\\t', index=False)"
   ]
  },
  {
   "cell_type": "code",
   "execution_count": 15,
   "metadata": {},
   "outputs": [],
   "source": [
    "data.dropna(subset=['clean_id'], inplace=True)\n",
    "data['ID'] = data['clean_id']\n",
    "data.to_csv('data/raw_clean_id.tsv', sep='\\t', index=False)\n"
   ]
  },
  {
   "cell_type": "markdown",
   "metadata": {},
   "source": [
    "## Необходимо удалить родственников"
   ]
  },
  {
   "cell_type": "code",
   "execution_count": 70,
   "metadata": {},
   "outputs": [
    {
     "data": {
      "text/html": [
       "<div>\n",
       "<style scoped>\n",
       "    .dataframe tbody tr th:only-of-type {\n",
       "        vertical-align: middle;\n",
       "    }\n",
       "\n",
       "    .dataframe tbody tr th {\n",
       "        vertical-align: top;\n",
       "    }\n",
       "\n",
       "    .dataframe thead th {\n",
       "        text-align: right;\n",
       "    }\n",
       "</style>\n",
       "<table border=\"1\" class=\"dataframe\">\n",
       "  <thead>\n",
       "    <tr style=\"text-align: right;\">\n",
       "      <th></th>\n",
       "      <th>0</th>\n",
       "      <th>1</th>\n",
       "      <th>2</th>\n",
       "      <th>3</th>\n",
       "      <th>4</th>\n",
       "      <th>5</th>\n",
       "    </tr>\n",
       "  </thead>\n",
       "  <tbody>\n",
       "    <tr>\n",
       "      <th>0</th>\n",
       "      <td>1111111</td>\n",
       "      <td>1111111</td>\n",
       "      <td>0</td>\n",
       "      <td>0</td>\n",
       "      <td>0</td>\n",
       "      <td>-9</td>\n",
       "    </tr>\n",
       "    <tr>\n",
       "      <th>1</th>\n",
       "      <td>1111112</td>\n",
       "      <td>1111112</td>\n",
       "      <td>0</td>\n",
       "      <td>0</td>\n",
       "      <td>0</td>\n",
       "      <td>-9</td>\n",
       "    </tr>\n",
       "    <tr>\n",
       "      <th>2</th>\n",
       "      <td>1111113</td>\n",
       "      <td>1111113</td>\n",
       "      <td>0</td>\n",
       "      <td>0</td>\n",
       "      <td>0</td>\n",
       "      <td>-9</td>\n",
       "    </tr>\n",
       "    <tr>\n",
       "      <th>3</th>\n",
       "      <td>1111114</td>\n",
       "      <td>1111114</td>\n",
       "      <td>0</td>\n",
       "      <td>0</td>\n",
       "      <td>0</td>\n",
       "      <td>-9</td>\n",
       "    </tr>\n",
       "    <tr>\n",
       "      <th>4</th>\n",
       "      <td>1111115</td>\n",
       "      <td>1111115</td>\n",
       "      <td>0</td>\n",
       "      <td>0</td>\n",
       "      <td>0</td>\n",
       "      <td>-9</td>\n",
       "    </tr>\n",
       "    <tr>\n",
       "      <th>...</th>\n",
       "      <td>...</td>\n",
       "      <td>...</td>\n",
       "      <td>...</td>\n",
       "      <td>...</td>\n",
       "      <td>...</td>\n",
       "      <td>...</td>\n",
       "    </tr>\n",
       "    <tr>\n",
       "      <th>8659</th>\n",
       "      <td>SGZ00000001</td>\n",
       "      <td>SGZ00000001</td>\n",
       "      <td>0</td>\n",
       "      <td>0</td>\n",
       "      <td>0</td>\n",
       "      <td>-9</td>\n",
       "    </tr>\n",
       "    <tr>\n",
       "      <th>8660</th>\n",
       "      <td>SGZ00000003</td>\n",
       "      <td>SGZ00000003</td>\n",
       "      <td>0</td>\n",
       "      <td>0</td>\n",
       "      <td>0</td>\n",
       "      <td>-9</td>\n",
       "    </tr>\n",
       "    <tr>\n",
       "      <th>8661</th>\n",
       "      <td>SGZ00000005</td>\n",
       "      <td>SGZ00000005</td>\n",
       "      <td>0</td>\n",
       "      <td>0</td>\n",
       "      <td>0</td>\n",
       "      <td>-9</td>\n",
       "    </tr>\n",
       "    <tr>\n",
       "      <th>8662</th>\n",
       "      <td>SGZ00000006</td>\n",
       "      <td>SGZ00000006</td>\n",
       "      <td>0</td>\n",
       "      <td>0</td>\n",
       "      <td>0</td>\n",
       "      <td>-9</td>\n",
       "    </tr>\n",
       "    <tr>\n",
       "      <th>8663</th>\n",
       "      <td>SGZ00000008</td>\n",
       "      <td>SGZ00000008</td>\n",
       "      <td>0</td>\n",
       "      <td>0</td>\n",
       "      <td>0</td>\n",
       "      <td>-9</td>\n",
       "    </tr>\n",
       "  </tbody>\n",
       "</table>\n",
       "<p>8664 rows × 6 columns</p>\n",
       "</div>"
      ],
      "text/plain": [
       "                0            1  2  3  4  5\n",
       "0         1111111      1111111  0  0  0 -9\n",
       "1         1111112      1111112  0  0  0 -9\n",
       "2         1111113      1111113  0  0  0 -9\n",
       "3         1111114      1111114  0  0  0 -9\n",
       "4         1111115      1111115  0  0  0 -9\n",
       "...           ...          ... .. .. .. ..\n",
       "8659  SGZ00000001  SGZ00000001  0  0  0 -9\n",
       "8660  SGZ00000003  SGZ00000003  0  0  0 -9\n",
       "8661  SGZ00000005  SGZ00000005  0  0  0 -9\n",
       "8662  SGZ00000006  SGZ00000006  0  0  0 -9\n",
       "8663  SGZ00000008  SGZ00000008  0  0  0 -9\n",
       "\n",
       "[8664 rows x 6 columns]"
      ]
     },
     "execution_count": 70,
     "metadata": {},
     "output_type": "execute_result"
    }
   ],
   "source": [
    "not_related = pd.read_csv('data/merged.rel.fam', delimiter=' ', header=None)\n",
    "not_related"
   ]
  },
  {
   "cell_type": "code",
   "execution_count": 72,
   "metadata": {},
   "outputs": [],
   "source": [
    "data = data.merge(not_related, left_on=['ID'], right_on=[0], how='inner')\n"
   ]
  },
  {
   "cell_type": "code",
   "execution_count": 8,
   "metadata": {},
   "outputs": [
    {
     "data": {
      "image/png": "[encoded data removed]",
      "text/plain": [
       "<Figure size 432x288 with 2 Axes>"
      ]
     },
     "metadata": {
      "needs_background": "light"
     },
     "output_type": "display_data"
    },
    {
     "name": "stdout",
     "output_type": "stream",
     "text": [
      "Empty DataFrame\n",
      "Columns: [Наименование файла, ID, Направление, Вес, Рост, Полных лет, Пол]\n",
      "Index: []\n"
     ]
    }
   ],
   "source": [
    "import matplotlib.pyplot as plt\n",
    "import numpy as np\n",
    "plt.subplot(211)\n",
    "plt.scatter(np.arange(len(data[data['Пол'] == 'Мужской'])), data[data['Пол'] == 'Мужской']['Рост'])\n",
    "plt.subplot(212)\n",
    "plt.scatter(np.arange(len( data[data['Пол'] == 'Женский'])), data[data['Пол'] == 'Женский']['Рост'])\n",
    "plt.show()\n",
    "print(data[data['Рост'] > 500])"
   ]
  },
  {
   "cell_type": "markdown",
   "metadata": {},
   "source": [
    "### Рост"
   ]
  },
  {
   "cell_type": "code",
   "execution_count": 9,
   "metadata": {},
   "outputs": [
    {
     "name": "stdout",
     "output_type": "stream",
     "text": [
      "Female 5983 + male 5724 (11707 / 11753)\n",
      "46 строк без данных о поле\n",
      "Без колонки \"ID\" у мужчин - 0\n",
      "Без колонки \"ID\" у женщин - 0\n",
      "Без колонки \"Вес\" у мужчин - 0\n",
      "Без колонки \"Вес\" у женщин - 0\n",
      "Без колонки \"Рост\" у мужчин - 0\n",
      "Без колонки \"Рост\" у женщин - 0\n",
      "Без колонки \"Полных лет\" у мужчин - 0\n",
      "Без колонки \"Полных лет\" у женщин - 0\n",
      "Empty DataFrame\n",
      "Columns: [Наименование файла, ID, Направление, Вес, Рост, Полных лет, Пол]\n",
      "Index: []\n"
     ]
    }
   ],
   "source": [
    "pheno_male = data[data['Пол'] == 'Мужской'][['ID', 'Вес', 'Рост', 'Полных лет']].copy()\n",
    "pheno_female = data[data['Пол'] == 'Женский'][['ID', 'Вес', 'Рост', 'Полных лет']].copy()\n",
    "print(f'Female {len(pheno_female)} + male {len(pheno_male)} ({len(pheno_male) + len(pheno_female)} / {len(data)})')\n",
    "print(f'{len(data) - (len(pheno_male) + len(pheno_female))} строк без данных о поле')\n",
    "for col in pheno_male.columns:    \n",
    "    print(f'Без колонки \"{col}\" у мужчин - {len(pheno_male[pheno_male[col].isna()])}')\n",
    "    print(f'Без колонки \"{col}\" у женщин - {len(pheno_female[pheno_female[col].isna()])}')\n",
    "\n",
    "print(data[data['Рост'] > 1000])"
   ]
  },
  {
   "cell_type": "code",
   "execution_count": 75,
   "metadata": {},
   "outputs": [],
   "source": [
    "pheno_male = pheno_male[(pheno_male['Полных лет'] > 20) & (pheno_male['Полных лет'] <= 60)]\n",
    "pheno_female = pheno_female[(pheno_female['Полных лет'] > 20) & (pheno_female['Полных лет'] <= 60)]\n",
    "pheno_male = pheno_male[(pheno_male['Рост'] > 140) & (pheno_male['Рост'] < 300)]\n",
    "pheno_female = pheno_female[(pheno_female['Рост'] > 100) & (pheno_female['Рост'] < 300)]"
   ]
  },
  {
   "cell_type": "code",
   "execution_count": 10,
   "metadata": {},
   "outputs": [
    {
     "data": {
      "image/png": "[encoded data removed]",
      "text/plain": [
       "<Figure size 576x576 with 2 Axes>"
      ]
     },
     "metadata": {
      "needs_background": "light"
     },
     "output_type": "display_data"
    }
   ],
   "source": [
    "import matplotlib.pyplot as plt\n",
    "import numpy as np\n",
    "fig, (ax1, ax2) = plt.subplots(2, 1, figsize=(8, 8))\n",
    "fig.suptitle('Height of participans')\n",
    "ax1.scatter(np.arange(len(pheno_male)), pheno_male['Рост'], label='Male', c='#1f77b4')\n",
    "ax1.set_title('Male')\n",
    "ax1.set_ylabel('Height')\n",
    "ax2.scatter(np.arange(len(pheno_female)), pheno_female['Рост'], label='Female', c='#ff7f0e')\n",
    "ax2.set_title('Female')\n",
    "ax2.set_ylabel('Height')\n",
    "plt.show()"
   ]
  },
  {
   "cell_type": "code",
   "execution_count": 11,
   "metadata": {},
   "outputs": [
    {
     "data": {
      "image/png": "[encoded data removed]",
      "text/plain": [
       "<Figure size 432x288 with 1 Axes>"
      ]
     },
     "metadata": {
      "needs_background": "light"
     },
     "output_type": "display_data"
    }
   ],
   "source": [
    "bins = np.linspace(0, 100, 20)\n",
    "\n",
    "# Age histogram plot\n",
    "plt.hist(pheno_male['Полных лет'], bins, alpha=0.5, label='Male')\n",
    "plt.hist(pheno_female['Полных лет'], bins, alpha=0.5, label='Female')\n",
    "plt.title('Age of participans')\n",
    "plt.legend(loc='upper right')\n",
    "plt.show()"
   ]
  },
  {
   "cell_type": "code",
   "execution_count": 78,
   "metadata": {},
   "outputs": [],
   "source": [
    "pheno_male.to_csv('data/pheno_male.csv', sep='\\t', index=False)\n",
    "pheno_female.to_csv('data/pheno_female.csv', sep='\\t', index=False)"
   ]
  },
  {
   "cell_type": "code",
   "execution_count": 79,
   "metadata": {},
   "outputs": [],
   "source": [
    "pheno_male['FID'] = pheno_male['ID']\n",
    "pheno_male['IID'] = pheno_male['ID']\n",
    "pheno_female['FID'] = pheno_female['ID']\n",
    "pheno_female['IID'] = pheno_female['ID']\n",
    "pheno_male['zscore'] = pheno_male[['Рост']].apply(zscore)\n",
    "pheno_female['zscore'] = pheno_female[['Рост']].apply(zscore)\n",
    "pheno_male[['FID', 'IID', 'zscore']].to_csv('data/height/male.pheno', sep=' ', index=False)\n",
    "pheno_female[['FID', 'IID', 'zscore']].to_csv('data/height/female.pheno', sep=' ', index=False)"
   ]
  },
  {
   "cell_type": "code",
   "execution_count": 80,
   "metadata": {},
   "outputs": [],
   "source": [
    "pheno_all = pd.concat([pheno_male, pheno_female])\n",
    "#pheno_all['zscore'] = pheno_all[['Рост']].apply(zscore)\n",
    "pheno_all[['FID', 'IID', 'zscore']].to_csv('data/height/all.pheno', sep=' ', index=False)\n",
    "pheno_all['AGE'] = pheno_all['Полных лет']\n",
    "pheno_all[['FID', 'IID', 'AGE']].to_csv('data/height/all.cov', sep=' ', index=False)"
   ]
  },
  {
   "cell_type": "markdown",
   "metadata": {},
   "source": [
    "### BMI"
   ]
  },
  {
   "cell_type": "code",
   "execution_count": 81,
   "metadata": {},
   "outputs": [],
   "source": [
    "pheno_male = data[data['Пол'] == 'Мужской'][['ID', 'Вес', 'Рост', 'Полных лет']].copy()\n",
    "pheno_female = data[data['Пол'] == 'Женский'][['ID', 'Вес', 'Рост', 'Полных лет']].copy()\n",
    "pheno_male = pheno_male[(pheno_male['Полных лет'] > 20) & (pheno_male['Полных лет'] <= 60)]\n",
    "pheno_female = pheno_female[(pheno_female['Полных лет'] > 20) & (pheno_female['Полных лет'] <= 60)]\n",
    "pheno_male = pheno_male[(pheno_male['Рост'] > 140) & (pheno_male['Рост'] < 300)]\n",
    "pheno_female = pheno_female[(pheno_female['Рост'] > 100) & (pheno_female['Рост'] < 300)]\n",
    "pheno_female = pheno_female[(pheno_female['Вес'] > 10) & (pheno_female['Вес'] < 140)]\n",
    "pheno_male = pheno_male[(pheno_male['Вес'] > 40) & (pheno_male['Вес'] < 160)]"
   ]
  },
  {
   "cell_type": "code",
   "execution_count": 82,
   "metadata": {},
   "outputs": [
    {
     "data": {
      "image/png": "[encoded data removed]",
      "text/plain": [
       "<Figure size 576x576 with 2 Axes>"
      ]
     },
     "metadata": {
      "needs_background": "light"
     },
     "output_type": "display_data"
    }
   ],
   "source": [
    "fig, (ax1, ax2) = plt.subplots(2, 1, figsize=(8, 8))\n",
    "fig.suptitle('Weight of participans')\n",
    "ax1.scatter(np.arange(len(pheno_male)), pheno_male['Вес'], label='Male', c='#1f77b4')\n",
    "ax1.set_title('Male')\n",
    "ax1.set_ylabel('Weight')\n",
    "ax2.scatter(np.arange(len(pheno_female)), pheno_female['Вес'], label='Female', c='#ff7f0e')\n",
    "ax2.set_title('Female')\n",
    "ax2.set_ylabel('Weight')\n",
    "plt.show()"
   ]
  },
  {
   "cell_type": "code",
   "execution_count": 83,
   "metadata": {},
   "outputs": [],
   "source": [
    "pheno_male['BMI'] = pheno_male['Вес'] / ((pheno_male['Рост'] / 100)**2)\n",
    "pheno_female['BMI'] = pheno_female['Вес'] / ((pheno_female['Рост'] / 100)**2)"
   ]
  },
  {
   "cell_type": "code",
   "execution_count": 84,
   "metadata": {},
   "outputs": [],
   "source": [
    "pheno_male['FID'] = pheno_male['ID']\n",
    "pheno_male['IID'] = pheno_male['ID']\n",
    "pheno_female['FID'] = pheno_female['ID']\n",
    "pheno_female['IID'] = pheno_female['ID']\n",
    "pheno_male['zscore'] = pheno_male[['BMI']].apply(zscore)\n",
    "pheno_female['zscore'] = pheno_female[['BMI']].apply(zscore)\n",
    "pheno_male[['FID', 'IID', 'zscore']].to_csv('data/bmi/male.pheno', sep=' ', index=False)\n",
    "pheno_female[['FID', 'IID', 'zscore']].to_csv('data/bmi/female.pheno', sep=' ', index=False)"
   ]
  },
  {
   "cell_type": "code",
   "execution_count": 85,
   "metadata": {},
   "outputs": [],
   "source": [
    "pheno_all = pd.concat([pheno_male, pheno_female])\n",
    "#pheno_all['zscore'] = pheno_all[['Рост']].apply(zscore)\n",
    "pheno_all[['FID', 'IID', 'zscore']].to_csv('data/bmi/all.pheno', sep=' ', index=False)\n",
    "pheno_all['AGE'] = pheno_all['Полных лет']\n",
    "pheno_all[['FID', 'IID', 'AGE']].to_csv('data/bmi/all.cov', sep=' ', index=False)"
   ]
  },
  {
   "cell_type": "markdown",
   "metadata": {},
   "source": [
    "Проблема - plink использует rsid, а не комбинацию позиции + alt + ref. \n",
    "\n",
    "А поскольку rsid могут быть например 1111 A->T,G, то есть включать в себя несколько вариантов, то это может вести к потере информации\n",
    "\n",
    "**Что можно сделать?**\n",
    "1. Склеить vcf, а потом перевести в bed\n",
    "1. Работать с vcf"
   ]
  },
  {
   "cell_type": "code",
   "execution_count": 87,
   "metadata": {},
   "outputs": [
    {
     "data": {
      "text/html": [
       "<div>\n",
       "<style scoped>\n",
       "    .dataframe tbody tr th:only-of-type {\n",
       "        vertical-align: middle;\n",
       "    }\n",
       "\n",
       "    .dataframe tbody tr th {\n",
       "        vertical-align: top;\n",
       "    }\n",
       "\n",
       "    .dataframe thead th {\n",
       "        text-align: right;\n",
       "    }\n",
       "</style>\n",
       "<table border=\"1\" class=\"dataframe\">\n",
       "  <thead>\n",
       "    <tr style=\"text-align: right;\">\n",
       "      <th></th>\n",
       "      <th>Наименование файла</th>\n",
       "      <th>ID</th>\n",
       "      <th>Направление</th>\n",
       "      <th>Вес</th>\n",
       "      <th>Рост</th>\n",
       "      <th>Полных лет</th>\n",
       "      <th>Пол</th>\n",
       "      <th>clean_id</th>\n",
       "    </tr>\n",
       "  </thead>\n",
       "  <tbody>\n",
       "    <tr>\n",
       "      <th>0</th>\n",
       "      <td>1112261.mm2.sortdup.bqsr.HaplotypeCaller.vcf.gz</td>\n",
       "      <td>E20B1112261</td>\n",
       "      <td>Здоровые</td>\n",
       "      <td>107.0</td>\n",
       "      <td>183.0</td>\n",
       "      <td>37.0</td>\n",
       "      <td>Мужской</td>\n",
       "      <td>1112261</td>\n",
       "    </tr>\n",
       "    <tr>\n",
       "      <th>1</th>\n",
       "      <td>1113645.mm2.sortdup.bqsr.hc.vcf.gz</td>\n",
       "      <td>E21B1113645</td>\n",
       "      <td>Здоровые</td>\n",
       "      <td>120.0</td>\n",
       "      <td>180.0</td>\n",
       "      <td>43.0</td>\n",
       "      <td>Мужской</td>\n",
       "      <td>1113645</td>\n",
       "    </tr>\n",
       "    <tr>\n",
       "      <th>2</th>\n",
       "      <td>1112646.mm2.sortdup.bqsr.HaplotypeCaller.vcf.gz</td>\n",
       "      <td>E20B1112646</td>\n",
       "      <td>Здоровые</td>\n",
       "      <td>93.0</td>\n",
       "      <td>165.0</td>\n",
       "      <td>62.0</td>\n",
       "      <td>Женский</td>\n",
       "      <td>1112646</td>\n",
       "    </tr>\n",
       "    <tr>\n",
       "      <th>3</th>\n",
       "      <td>E20B1113276.mm2.sortdup.bqsr.hc.vcf.gz</td>\n",
       "      <td>E20B1113276</td>\n",
       "      <td>Здоровые</td>\n",
       "      <td>75.0</td>\n",
       "      <td>176.0</td>\n",
       "      <td>28.0</td>\n",
       "      <td>Женский</td>\n",
       "      <td>E20B1113276</td>\n",
       "    </tr>\n",
       "    <tr>\n",
       "      <th>4</th>\n",
       "      <td>E21B1113880.mm2.sortdup.bqsr.hc.vcf.gz</td>\n",
       "      <td>E21B1113880</td>\n",
       "      <td>Здоровые</td>\n",
       "      <td>47.0</td>\n",
       "      <td>158.0</td>\n",
       "      <td>37.0</td>\n",
       "      <td>Женский</td>\n",
       "      <td>E21B1113880</td>\n",
       "    </tr>\n",
       "    <tr>\n",
       "      <th>...</th>\n",
       "      <td>...</td>\n",
       "      <td>...</td>\n",
       "      <td>...</td>\n",
       "      <td>...</td>\n",
       "      <td>...</td>\n",
       "      <td>...</td>\n",
       "      <td>...</td>\n",
       "      <td>...</td>\n",
       "    </tr>\n",
       "    <tr>\n",
       "      <th>11748</th>\n",
       "      <td>NNR00007496.mm2.sortdup.bqsr.hc.vcf.gz</td>\n",
       "      <td>NNR00007496</td>\n",
       "      <td>Здоровые</td>\n",
       "      <td>85.0</td>\n",
       "      <td>163.0</td>\n",
       "      <td>43.0</td>\n",
       "      <td>Женский</td>\n",
       "      <td>NNR00007496</td>\n",
       "    </tr>\n",
       "    <tr>\n",
       "      <th>11749</th>\n",
       "      <td>NNR00007627.mm2.sortdup.bqsr.hc.vcf.gz</td>\n",
       "      <td>NNR00007627</td>\n",
       "      <td>Здоровые</td>\n",
       "      <td>87.0</td>\n",
       "      <td>181.0</td>\n",
       "      <td>47.0</td>\n",
       "      <td>Мужской</td>\n",
       "      <td>NNR00007627</td>\n",
       "    </tr>\n",
       "    <tr>\n",
       "      <th>11750</th>\n",
       "      <td>NNR00007497.mm2.sortdup.bqsr.hc.vcf.gz</td>\n",
       "      <td>NNR00007497</td>\n",
       "      <td>Здоровые</td>\n",
       "      <td>70.0</td>\n",
       "      <td>164.0</td>\n",
       "      <td>42.0</td>\n",
       "      <td>Женский</td>\n",
       "      <td>NNR00007497</td>\n",
       "    </tr>\n",
       "    <tr>\n",
       "      <th>11751</th>\n",
       "      <td>NNR00007628.mm2.sortdup.bqsr.hc.vcf.gz</td>\n",
       "      <td>NNR00007628</td>\n",
       "      <td>Здоровые</td>\n",
       "      <td>62.0</td>\n",
       "      <td>160.0</td>\n",
       "      <td>29.0</td>\n",
       "      <td>Женский</td>\n",
       "      <td>NNR00007628</td>\n",
       "    </tr>\n",
       "    <tr>\n",
       "      <th>11752</th>\n",
       "      <td>NNR00007629.mm2.sortdup.bqsr.hc.vcf.gz</td>\n",
       "      <td>NNR00007629</td>\n",
       "      <td>Здоровые</td>\n",
       "      <td>60.0</td>\n",
       "      <td>167.0</td>\n",
       "      <td>29.0</td>\n",
       "      <td>Женский</td>\n",
       "      <td>NNR00007629</td>\n",
       "    </tr>\n",
       "  </tbody>\n",
       "</table>\n",
       "<p>11753 rows × 8 columns</p>\n",
       "</div>"
      ],
      "text/plain": [
       "                                    Наименование файла           ID  \\\n",
       "0      1112261.mm2.sortdup.bqsr.HaplotypeCaller.vcf.gz  E20B1112261   \n",
       "1                   1113645.mm2.sortdup.bqsr.hc.vcf.gz  E21B1113645   \n",
       "2      1112646.mm2.sortdup.bqsr.HaplotypeCaller.vcf.gz  E20B1112646   \n",
       "3               E20B1113276.mm2.sortdup.bqsr.hc.vcf.gz  E20B1113276   \n",
       "4               E21B1113880.mm2.sortdup.bqsr.hc.vcf.gz  E21B1113880   \n",
       "...                                                ...          ...   \n",
       "11748           NNR00007496.mm2.sortdup.bqsr.hc.vcf.gz  NNR00007496   \n",
       "11749           NNR00007627.mm2.sortdup.bqsr.hc.vcf.gz  NNR00007627   \n",
       "11750           NNR00007497.mm2.sortdup.bqsr.hc.vcf.gz  NNR00007497   \n",
       "11751           NNR00007628.mm2.sortdup.bqsr.hc.vcf.gz  NNR00007628   \n",
       "11752           NNR00007629.mm2.sortdup.bqsr.hc.vcf.gz  NNR00007629   \n",
       "\n",
       "      Направление    Вес   Рост  Полных лет      Пол     clean_id  \n",
       "0        Здоровые  107.0  183.0        37.0  Мужской      1112261  \n",
       "1        Здоровые  120.0  180.0        43.0  Мужской      1113645  \n",
       "2        Здоровые   93.0  165.0        62.0  Женский      1112646  \n",
       "3        Здоровые   75.0  176.0        28.0  Женский  E20B1113276  \n",
       "4        Здоровые   47.0  158.0        37.0  Женский  E21B1113880  \n",
       "...           ...    ...    ...         ...      ...          ...  \n",
       "11748    Здоровые   85.0  163.0        43.0  Женский  NNR00007496  \n",
       "11749    Здоровые   87.0  181.0        47.0  Мужской  NNR00007627  \n",
       "11750    Здоровые   70.0  164.0        42.0  Женский  NNR00007497  \n",
       "11751    Здоровые   62.0  160.0        29.0  Женский  NNR00007628  \n",
       "11752    Здоровые   60.0  167.0        29.0  Женский  NNR00007629  \n",
       "\n",
       "[11753 rows x 8 columns]"
      ]
     },
     "execution_count": 87,
     "metadata": {},
     "output_type": "execute_result"
    }
   ],
   "source": [
    "all_data = pd.read_csv('data/clean_id.csv', delimiter='\\t')\n",
    "all_data"
   ]
  },
  {
   "cell_type": "code",
   "execution_count": null,
   "metadata": {},
   "outputs": [],
   "source": [
    "pheno_male = data[data['Пол'] == 'Мужской'][['ID', 'Вес', 'Рост', 'Полных лет']].copy()\n",
    "pheno_female = data[data['Пол'] == 'Женский'][['ID', 'Вес', 'Рост', 'Полных лет']].copy()\n",
    "pheno_male = pheno_male[(pheno_male['Полных лет'] > 20) & (pheno_male['Полных лет'] <= 60)]\n",
    "pheno_female = pheno_female[(pheno_female['Полных лет'] > 20) & (pheno_female['Полных лет'] <= 60)]\n",
    "pheno_male = pheno_male[(pheno_male['Рост'] > 140) & (pheno_male['Рост'] < 300)]\n",
    "pheno_female = pheno_female[(pheno_female['Рост'] > 100) & (pheno_female['Рост'] < 300)]\n",
    "pheno_female = pheno_female[(pheno_female['Вес'] > 10) & (pheno_female['Вес'] < 140)]\n",
    "pheno_male = pheno_male[(pheno_male['Вес'] > 40) & (pheno_male['Вес'] < 160)]"
   ]
  },
  {
   "cell_type": "code",
   "execution_count": null,
   "metadata": {},
   "outputs": [],
   "source": [
    "all_data[(all_data['Полных лет'] <= 20) | (all_data['Полных лет'] > 60)].to_csv('data/age_restricted.csv',sep='\\t', index=False)"
   ]
  },
  {
   "cell_type": "code",
   "execution_count": 102,
   "metadata": {},
   "outputs": [
    {
     "name": "stdout",
     "output_type": "stream",
     "text": [
      "477\n"
     ]
    }
   ],
   "source": [
    "length_of_correct = len(all_data[(all_data['Полных лет'] > 20) & (all_data['Полных лет'] <= 60)])\n",
    "correct = all_data[(all_data['Полных лет'] > 20) & (all_data['Полных лет'] <= 60)]\n",
    "pheno_male = correct[correct['Пол'] == 'Мужской'][['ID', 'Вес', 'Рост', 'Полных лет', 'clean_id']].copy()\n",
    "pheno_female = correct[correct['Пол'] == 'Женский'][['ID', 'Вес', 'Рост', 'Полных лет', 'clean_id']].copy()\n",
    "pheno_male = pheno_male[(pheno_male['Рост'] > 140) & (pheno_male['Рост'] < 300)]\n",
    "pheno_female = pheno_female[(pheno_female['Рост'] > 100) & (pheno_female['Рост'] < 300)]\n",
    "pheno_all = pd.concat([pheno_male, pheno_female])\n",
    "difference = correct[~correct.set_index(['clean_id']).index.isin(pheno_all.set_index(['clean_id']).index)]\n",
    "print(len(difference))\n",
    "difference.to_csv('data/height_restricted.csv',sep='\\t', index=False)"
   ]
  },
  {
   "cell_type": "code",
   "execution_count": 103,
   "metadata": {},
   "outputs": [
    {
     "name": "stdout",
     "output_type": "stream",
     "text": [
      "37\n"
     ]
    }
   ],
   "source": [
    "pheno_female = pheno_female[(pheno_female['Вес'] > 10) & (pheno_female['Вес'] < 140)]\n",
    "pheno_male = pheno_male[(pheno_male['Вес'] > 40) & (pheno_male['Вес'] < 160)]\n",
    "pheno_all_weight = pd.concat([pheno_male, pheno_female])\n",
    "difference = pheno_all[~pheno_all.set_index(['clean_id']).index.isin(pheno_all_weight.set_index(['clean_id']).index)]\n",
    "print(len(difference))\n",
    "difference.to_csv('data/weight_restricted.csv',sep='\\t', index=False)"
   ]
  },
  {
   "cell_type": "code",
   "execution_count": 108,
   "metadata": {},
   "outputs": [
    {
     "name": "stdout",
     "output_type": "stream",
     "text": [
      "601\n"
     ]
    }
   ],
   "source": [
    "not_related = pd.read_csv('data/merged.rel.fam', delimiter=' ', header=None)\n",
    "difference = pheno_all_weight[~pheno_all_weight.set_index(['clean_id']).index.isin(not_related.set_index([0]).index)]\n",
    "print(len(difference))\n",
    "difference.to_csv('data/relative_restricted.csv',sep='\\t', index=False)"
   ]
  },
  {
   "cell_type": "code",
   "execution_count": null,
   "metadata": {},
   "outputs": [],
   "source": []
  }
 ],
 "metadata": {
  "kernelspec": {
   "display_name": "Python 3",
   "language": "python",
   "name": "python3"
  },
  "language_info": {
   "codemirror_mode": {
    "name": "ipython",
    "version": 3
   },
   "file_extension": ".py",
   "mimetype": "text/x-python",
   "name": "python",
   "nbconvert_exporter": "python",
   "pygments_lexer": "ipython3",
   "version": "3.8.5"
  }
 },
 "nbformat": 4,
 "nbformat_minor": 5
}
