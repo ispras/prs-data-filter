{
 "cells": [
  {
   "cell_type": "code",
   "execution_count": 2,
   "metadata": {},
   "outputs": [],
   "source": [
    "import pandas as pd\n",
    "import matplotlib.pyplot as plt\n",
    "import numpy as np"
   ]
  },
  {
   "cell_type": "code",
   "execution_count": 16,
   "metadata": {},
   "outputs": [
    {
     "data": {
      "text/html": [
       "<div>\n",
       "<style scoped>\n",
       "    .dataframe tbody tr th:only-of-type {\n",
       "        vertical-align: middle;\n",
       "    }\n",
       "\n",
       "    .dataframe tbody tr th {\n",
       "        vertical-align: top;\n",
       "    }\n",
       "\n",
       "    .dataframe thead th {\n",
       "        text-align: right;\n",
       "    }\n",
       "</style>\n",
       "<table border=\"1\" class=\"dataframe\">\n",
       "  <thead>\n",
       "    <tr style=\"text-align: right;\">\n",
       "      <th></th>\n",
       "      <th>1</th>\n",
       "      <th>2</th>\n",
       "      <th>3</th>\n",
       "      <th>4</th>\n",
       "    </tr>\n",
       "  </thead>\n",
       "  <tbody>\n",
       "    <tr>\n",
       "      <th>0</th>\n",
       "      <td>0.067746</td>\n",
       "      <td>-0.044683</td>\n",
       "      <td>0.007931</td>\n",
       "      <td>-0.007161</td>\n",
       "    </tr>\n",
       "    <tr>\n",
       "      <th>1</th>\n",
       "      <td>0.069881</td>\n",
       "      <td>-0.052473</td>\n",
       "      <td>0.006140</td>\n",
       "      <td>-0.000328</td>\n",
       "    </tr>\n",
       "    <tr>\n",
       "      <th>2</th>\n",
       "      <td>0.050864</td>\n",
       "      <td>-0.028193</td>\n",
       "      <td>-0.011403</td>\n",
       "      <td>-0.007281</td>\n",
       "    </tr>\n",
       "    <tr>\n",
       "      <th>3</th>\n",
       "      <td>0.062270</td>\n",
       "      <td>-0.035966</td>\n",
       "      <td>-0.001799</td>\n",
       "      <td>0.002395</td>\n",
       "    </tr>\n",
       "    <tr>\n",
       "      <th>4</th>\n",
       "      <td>0.047737</td>\n",
       "      <td>-0.034805</td>\n",
       "      <td>-0.003583</td>\n",
       "      <td>0.001600</td>\n",
       "    </tr>\n",
       "    <tr>\n",
       "      <th>...</th>\n",
       "      <td>...</td>\n",
       "      <td>...</td>\n",
       "      <td>...</td>\n",
       "      <td>...</td>\n",
       "    </tr>\n",
       "    <tr>\n",
       "      <th>13205</th>\n",
       "      <td>0.009035</td>\n",
       "      <td>-0.048225</td>\n",
       "      <td>-0.027429</td>\n",
       "      <td>0.005488</td>\n",
       "    </tr>\n",
       "    <tr>\n",
       "      <th>13206</th>\n",
       "      <td>-0.540195</td>\n",
       "      <td>-0.033129</td>\n",
       "      <td>0.093143</td>\n",
       "      <td>0.116614</td>\n",
       "    </tr>\n",
       "    <tr>\n",
       "      <th>13207</th>\n",
       "      <td>-0.543237</td>\n",
       "      <td>-0.036477</td>\n",
       "      <td>0.098359</td>\n",
       "      <td>0.126844</td>\n",
       "    </tr>\n",
       "    <tr>\n",
       "      <th>13208</th>\n",
       "      <td>-0.524544</td>\n",
       "      <td>-0.026387</td>\n",
       "      <td>0.102475</td>\n",
       "      <td>0.109428</td>\n",
       "    </tr>\n",
       "    <tr>\n",
       "      <th>13209</th>\n",
       "      <td>-0.544879</td>\n",
       "      <td>-0.030121</td>\n",
       "      <td>0.098797</td>\n",
       "      <td>0.127591</td>\n",
       "    </tr>\n",
       "  </tbody>\n",
       "</table>\n",
       "<p>13210 rows × 4 columns</p>\n",
       "</div>"
      ],
      "text/plain": [
       "              1         2         3         4\n",
       "0      0.067746 -0.044683  0.007931 -0.007161\n",
       "1      0.069881 -0.052473  0.006140 -0.000328\n",
       "2      0.050864 -0.028193 -0.011403 -0.007281\n",
       "3      0.062270 -0.035966 -0.001799  0.002395\n",
       "4      0.047737 -0.034805 -0.003583  0.001600\n",
       "...         ...       ...       ...       ...\n",
       "13205  0.009035 -0.048225 -0.027429  0.005488\n",
       "13206 -0.540195 -0.033129  0.093143  0.116614\n",
       "13207 -0.543237 -0.036477  0.098359  0.126844\n",
       "13208 -0.524544 -0.026387  0.102475  0.109428\n",
       "13209 -0.544879 -0.030121  0.098797  0.127591\n",
       "\n",
       "[13210 rows x 4 columns]"
      ]
     },
     "execution_count": 16,
     "metadata": {},
     "output_type": "execute_result"
    }
   ],
   "source": [
    "pca_all = pd.read_csv('data/population/pca_12K_and_external_26krsids.tsv', header=None, delimiter=',')\n",
    "pca_all[[1, 2, 3, 4]]"
   ]
  },
  {
   "cell_type": "code",
   "execution_count": 4,
   "metadata": {},
   "outputs": [
    {
     "data": {
      "text/html": [
       "<div>\n",
       "<style scoped>\n",
       "    .dataframe tbody tr th:only-of-type {\n",
       "        vertical-align: middle;\n",
       "    }\n",
       "\n",
       "    .dataframe tbody tr th {\n",
       "        vertical-align: top;\n",
       "    }\n",
       "\n",
       "    .dataframe thead th {\n",
       "        text-align: right;\n",
       "    }\n",
       "</style>\n",
       "<table border=\"1\" class=\"dataframe\">\n",
       "  <thead>\n",
       "    <tr style=\"text-align: right;\">\n",
       "      <th></th>\n",
       "      <th>s</th>\n",
       "      <th>ethnic</th>\n",
       "    </tr>\n",
       "  </thead>\n",
       "  <tbody>\n",
       "    <tr>\n",
       "      <th>0</th>\n",
       "      <td>100218</td>\n",
       "      <td>ESTONIAN</td>\n",
       "    </tr>\n",
       "    <tr>\n",
       "      <th>1</th>\n",
       "      <td>100228</td>\n",
       "      <td>ESTONIAN</td>\n",
       "    </tr>\n",
       "    <tr>\n",
       "      <th>2</th>\n",
       "      <td>100230</td>\n",
       "      <td>ESTONIAN</td>\n",
       "    </tr>\n",
       "    <tr>\n",
       "      <th>3</th>\n",
       "      <td>100232</td>\n",
       "      <td>ESTONIAN</td>\n",
       "    </tr>\n",
       "    <tr>\n",
       "      <th>4</th>\n",
       "      <td>100233</td>\n",
       "      <td>ESTONIAN</td>\n",
       "    </tr>\n",
       "    <tr>\n",
       "      <th>...</th>\n",
       "      <td>...</td>\n",
       "      <td>...</td>\n",
       "    </tr>\n",
       "    <tr>\n",
       "      <th>13101</th>\n",
       "      <td>NNR00007496</td>\n",
       "      <td>Rus</td>\n",
       "    </tr>\n",
       "    <tr>\n",
       "      <th>13102</th>\n",
       "      <td>NNR00007627</td>\n",
       "      <td>Rus</td>\n",
       "    </tr>\n",
       "    <tr>\n",
       "      <th>13103</th>\n",
       "      <td>NNR00007497</td>\n",
       "      <td>Rus</td>\n",
       "    </tr>\n",
       "    <tr>\n",
       "      <th>13104</th>\n",
       "      <td>NNR00007628</td>\n",
       "      <td>Rus</td>\n",
       "    </tr>\n",
       "    <tr>\n",
       "      <th>13105</th>\n",
       "      <td>NNR00007629</td>\n",
       "      <td>Rus</td>\n",
       "    </tr>\n",
       "  </tbody>\n",
       "</table>\n",
       "<p>13106 rows × 2 columns</p>\n",
       "</div>"
      ],
      "text/plain": [
       "                 s    ethnic\n",
       "0           100218  ESTONIAN\n",
       "1           100228  ESTONIAN\n",
       "2           100230  ESTONIAN\n",
       "3           100232  ESTONIAN\n",
       "4           100233  ESTONIAN\n",
       "...            ...       ...\n",
       "13101  NNR00007496       Rus\n",
       "13102  NNR00007627       Rus\n",
       "13103  NNR00007497       Rus\n",
       "13104  NNR00007628       Rus\n",
       "13105  NNR00007629       Rus\n",
       "\n",
       "[13106 rows x 2 columns]"
      ]
     },
     "execution_count": 4,
     "metadata": {},
     "output_type": "execute_result"
    }
   ],
   "source": [
    "ethnic = pd.read_csv('data/population/ethnic_anno.tsv', delimiter='\\t')\n",
    "ethnic"
   ]
  },
  {
   "cell_type": "code",
   "execution_count": 5,
   "metadata": {},
   "outputs": [
    {
     "data": {
      "text/html": [
       "<div>\n",
       "<style scoped>\n",
       "    .dataframe tbody tr th:only-of-type {\n",
       "        vertical-align: middle;\n",
       "    }\n",
       "\n",
       "    .dataframe tbody tr th {\n",
       "        vertical-align: top;\n",
       "    }\n",
       "\n",
       "    .dataframe thead th {\n",
       "        text-align: right;\n",
       "    }\n",
       "</style>\n",
       "<table border=\"1\" class=\"dataframe\">\n",
       "  <thead>\n",
       "    <tr style=\"text-align: right;\">\n",
       "      <th></th>\n",
       "      <th>0</th>\n",
       "      <th>1</th>\n",
       "      <th>2</th>\n",
       "      <th>3</th>\n",
       "      <th>4</th>\n",
       "      <th>5</th>\n",
       "      <th>6</th>\n",
       "      <th>7</th>\n",
       "      <th>8</th>\n",
       "      <th>9</th>\n",
       "      <th>10</th>\n",
       "      <th>s</th>\n",
       "      <th>ethnic</th>\n",
       "    </tr>\n",
       "  </thead>\n",
       "  <tbody>\n",
       "    <tr>\n",
       "      <th>0</th>\n",
       "      <td>100218</td>\n",
       "      <td>0.067746</td>\n",
       "      <td>-0.044683</td>\n",
       "      <td>0.007931</td>\n",
       "      <td>-0.007161</td>\n",
       "      <td>-0.004310</td>\n",
       "      <td>0.013640</td>\n",
       "      <td>0.013759</td>\n",
       "      <td>-0.004663</td>\n",
       "      <td>-0.011451</td>\n",
       "      <td>-0.000591</td>\n",
       "      <td>100218</td>\n",
       "      <td>ESTONIAN</td>\n",
       "    </tr>\n",
       "    <tr>\n",
       "      <th>1</th>\n",
       "      <td>100228</td>\n",
       "      <td>0.069881</td>\n",
       "      <td>-0.052473</td>\n",
       "      <td>0.006140</td>\n",
       "      <td>-0.000328</td>\n",
       "      <td>0.025663</td>\n",
       "      <td>0.012742</td>\n",
       "      <td>0.025253</td>\n",
       "      <td>-0.003968</td>\n",
       "      <td>-0.002528</td>\n",
       "      <td>-0.000109</td>\n",
       "      <td>100228</td>\n",
       "      <td>ESTONIAN</td>\n",
       "    </tr>\n",
       "    <tr>\n",
       "      <th>2</th>\n",
       "      <td>100230</td>\n",
       "      <td>0.050864</td>\n",
       "      <td>-0.028193</td>\n",
       "      <td>-0.011403</td>\n",
       "      <td>-0.007281</td>\n",
       "      <td>0.016608</td>\n",
       "      <td>-0.012865</td>\n",
       "      <td>0.056845</td>\n",
       "      <td>-0.026374</td>\n",
       "      <td>-0.017734</td>\n",
       "      <td>0.014369</td>\n",
       "      <td>100230</td>\n",
       "      <td>ESTONIAN</td>\n",
       "    </tr>\n",
       "    <tr>\n",
       "      <th>3</th>\n",
       "      <td>100232</td>\n",
       "      <td>0.062270</td>\n",
       "      <td>-0.035966</td>\n",
       "      <td>-0.001799</td>\n",
       "      <td>0.002395</td>\n",
       "      <td>0.013076</td>\n",
       "      <td>0.003856</td>\n",
       "      <td>0.004765</td>\n",
       "      <td>-0.007253</td>\n",
       "      <td>-0.004143</td>\n",
       "      <td>-0.000564</td>\n",
       "      <td>100232</td>\n",
       "      <td>ESTONIAN</td>\n",
       "    </tr>\n",
       "    <tr>\n",
       "      <th>4</th>\n",
       "      <td>100233</td>\n",
       "      <td>0.047737</td>\n",
       "      <td>-0.034805</td>\n",
       "      <td>-0.003583</td>\n",
       "      <td>0.001600</td>\n",
       "      <td>0.010532</td>\n",
       "      <td>0.006812</td>\n",
       "      <td>0.038332</td>\n",
       "      <td>-0.012887</td>\n",
       "      <td>0.006113</td>\n",
       "      <td>0.005462</td>\n",
       "      <td>100233</td>\n",
       "      <td>ESTONIAN</td>\n",
       "    </tr>\n",
       "    <tr>\n",
       "      <th>...</th>\n",
       "      <td>...</td>\n",
       "      <td>...</td>\n",
       "      <td>...</td>\n",
       "      <td>...</td>\n",
       "      <td>...</td>\n",
       "      <td>...</td>\n",
       "      <td>...</td>\n",
       "      <td>...</td>\n",
       "      <td>...</td>\n",
       "      <td>...</td>\n",
       "      <td>...</td>\n",
       "      <td>...</td>\n",
       "      <td>...</td>\n",
       "    </tr>\n",
       "    <tr>\n",
       "      <th>13101</th>\n",
       "      <td>vepsian_V21441</td>\n",
       "      <td>0.009035</td>\n",
       "      <td>-0.048225</td>\n",
       "      <td>-0.027429</td>\n",
       "      <td>0.005488</td>\n",
       "      <td>-0.053208</td>\n",
       "      <td>-0.073746</td>\n",
       "      <td>0.058444</td>\n",
       "      <td>-0.020949</td>\n",
       "      <td>0.019907</td>\n",
       "      <td>0.018660</td>\n",
       "      <td>vepsian_V21441</td>\n",
       "      <td>VEPSA</td>\n",
       "    </tr>\n",
       "    <tr>\n",
       "      <th>13102</th>\n",
       "      <td>yakut1_1m</td>\n",
       "      <td>-0.540195</td>\n",
       "      <td>-0.033129</td>\n",
       "      <td>0.093143</td>\n",
       "      <td>0.116614</td>\n",
       "      <td>0.009332</td>\n",
       "      <td>-0.042392</td>\n",
       "      <td>0.001936</td>\n",
       "      <td>0.013347</td>\n",
       "      <td>0.005491</td>\n",
       "      <td>-0.017718</td>\n",
       "      <td>yakut1_1m</td>\n",
       "      <td>YAKUT</td>\n",
       "    </tr>\n",
       "    <tr>\n",
       "      <th>13103</th>\n",
       "      <td>yakut3185</td>\n",
       "      <td>-0.543237</td>\n",
       "      <td>-0.036477</td>\n",
       "      <td>0.098359</td>\n",
       "      <td>0.126844</td>\n",
       "      <td>0.014120</td>\n",
       "      <td>-0.017451</td>\n",
       "      <td>-0.015375</td>\n",
       "      <td>-0.005403</td>\n",
       "      <td>-0.007570</td>\n",
       "      <td>0.013244</td>\n",
       "      <td>yakut3185</td>\n",
       "      <td>YAKUT</td>\n",
       "    </tr>\n",
       "    <tr>\n",
       "      <th>13104</th>\n",
       "      <td>yakut4_1m</td>\n",
       "      <td>-0.524544</td>\n",
       "      <td>-0.026387</td>\n",
       "      <td>0.102475</td>\n",
       "      <td>0.109428</td>\n",
       "      <td>0.028302</td>\n",
       "      <td>-0.028961</td>\n",
       "      <td>-0.021827</td>\n",
       "      <td>0.003427</td>\n",
       "      <td>-0.020688</td>\n",
       "      <td>0.000570</td>\n",
       "      <td>yakut4_1m</td>\n",
       "      <td>YAKUT</td>\n",
       "    </tr>\n",
       "    <tr>\n",
       "      <th>13105</th>\n",
       "      <td>yakut8_1m</td>\n",
       "      <td>-0.544879</td>\n",
       "      <td>-0.030121</td>\n",
       "      <td>0.098797</td>\n",
       "      <td>0.127591</td>\n",
       "      <td>0.014480</td>\n",
       "      <td>-0.042577</td>\n",
       "      <td>-0.024277</td>\n",
       "      <td>0.009391</td>\n",
       "      <td>-0.003560</td>\n",
       "      <td>-0.013338</td>\n",
       "      <td>yakut8_1m</td>\n",
       "      <td>YAKUT</td>\n",
       "    </tr>\n",
       "  </tbody>\n",
       "</table>\n",
       "<p>13106 rows × 13 columns</p>\n",
       "</div>"
      ],
      "text/plain": [
       "                    0         1         2         3         4         5  \\\n",
       "0              100218  0.067746 -0.044683  0.007931 -0.007161 -0.004310   \n",
       "1              100228  0.069881 -0.052473  0.006140 -0.000328  0.025663   \n",
       "2              100230  0.050864 -0.028193 -0.011403 -0.007281  0.016608   \n",
       "3              100232  0.062270 -0.035966 -0.001799  0.002395  0.013076   \n",
       "4              100233  0.047737 -0.034805 -0.003583  0.001600  0.010532   \n",
       "...               ...       ...       ...       ...       ...       ...   \n",
       "13101  vepsian_V21441  0.009035 -0.048225 -0.027429  0.005488 -0.053208   \n",
       "13102       yakut1_1m -0.540195 -0.033129  0.093143  0.116614  0.009332   \n",
       "13103       yakut3185 -0.543237 -0.036477  0.098359  0.126844  0.014120   \n",
       "13104       yakut4_1m -0.524544 -0.026387  0.102475  0.109428  0.028302   \n",
       "13105       yakut8_1m -0.544879 -0.030121  0.098797  0.127591  0.014480   \n",
       "\n",
       "              6         7         8         9        10               s  \\\n",
       "0      0.013640  0.013759 -0.004663 -0.011451 -0.000591          100218   \n",
       "1      0.012742  0.025253 -0.003968 -0.002528 -0.000109          100228   \n",
       "2     -0.012865  0.056845 -0.026374 -0.017734  0.014369          100230   \n",
       "3      0.003856  0.004765 -0.007253 -0.004143 -0.000564          100232   \n",
       "4      0.006812  0.038332 -0.012887  0.006113  0.005462          100233   \n",
       "...         ...       ...       ...       ...       ...             ...   \n",
       "13101 -0.073746  0.058444 -0.020949  0.019907  0.018660  vepsian_V21441   \n",
       "13102 -0.042392  0.001936  0.013347  0.005491 -0.017718       yakut1_1m   \n",
       "13103 -0.017451 -0.015375 -0.005403 -0.007570  0.013244       yakut3185   \n",
       "13104 -0.028961 -0.021827  0.003427 -0.020688  0.000570       yakut4_1m   \n",
       "13105 -0.042577 -0.024277  0.009391 -0.003560 -0.013338       yakut8_1m   \n",
       "\n",
       "         ethnic  \n",
       "0      ESTONIAN  \n",
       "1      ESTONIAN  \n",
       "2      ESTONIAN  \n",
       "3      ESTONIAN  \n",
       "4      ESTONIAN  \n",
       "...         ...  \n",
       "13101     VEPSA  \n",
       "13102     YAKUT  \n",
       "13103     YAKUT  \n",
       "13104     YAKUT  \n",
       "13105     YAKUT  \n",
       "\n",
       "[13106 rows x 13 columns]"
      ]
     },
     "execution_count": 5,
     "metadata": {},
     "output_type": "execute_result"
    }
   ],
   "source": [
    "merged = pca_all.merge(ethnic, left_on=[0], right_on=['s'])\n",
    "merged"
   ]
  },
  {
   "cell_type": "code",
   "execution_count": 19,
   "metadata": {},
   "outputs": [],
   "source": [
    "from sklearn.metrics.pairwise import euclidean_distances\n",
    "dist = euclidean_distances(pca_all[[1, 2, 3, 4, 5, 6, 7, 8 ,9, 10]], pca_all[[1, 2, 3, 4, 5, 6, 7, 8 ,9, 10]])"
   ]
  },
  {
   "cell_type": "code",
   "execution_count": 65,
   "metadata": {},
   "outputs": [
    {
     "data": {
      "text/plain": [
       "array([ 1,  3,  2,  4,  6,  7,  8,  9, 11, 12, 14, 15, 10, 16, 20, 21, 18])"
      ]
     },
     "execution_count": 65,
     "metadata": {},
     "output_type": "execute_result"
    }
   ],
   "source": [
    "clust = pd.read_csv('data/population/clust.csv', delimiter=',')\n",
    "height_all = pd.read_csv('data/height/all.pheno', delimiter=' ')\n",
    "height_clust = clust.merge(height_all, right_on=['IID'], left_on=['Row.names'])\n",
    "height_clust['y'].unique()"
   ]
  },
  {
   "cell_type": "code",
   "execution_count": 66,
   "metadata": {},
   "outputs": [],
   "source": [
    "for i in height_clust['y'].unique():\n",
    "    height_clust[height_clust['y'] == i][['FID', 'IID', 'zscore']].to_csv(f'data/height/clust/all_{i}.pheno', sep=' ', index=False)"
   ]
  },
  {
   "cell_type": "code",
   "execution_count": 44,
   "metadata": {},
   "outputs": [
    {
     "data": {
      "text/plain": [
       "array(['Rus'], dtype=object)"
      ]
     },
     "execution_count": 44,
     "metadata": {},
     "output_type": "execute_result"
    }
   ],
   "source": [
    "height_clust[height_clust['y'] == 4]\n",
    "tmp = merged.merge(height_clust, right_on=['IID'], left_on=['s'])\n",
    "tmp[tmp['y'] == 1]['ethnic_x'].unique()"
   ]
  },
  {
   "cell_type": "code",
   "execution_count": 67,
   "metadata": {},
   "outputs": [
    {
     "data": {
      "text/plain": [
       "array([ 1,  3,  2,  4,  6,  7,  8,  9, 11, 12, 14, 15, 10, 16, 20, 21, 18])"
      ]
     },
     "execution_count": 67,
     "metadata": {},
     "output_type": "execute_result"
    }
   ],
   "source": [
    "clust = pd.read_csv('data/population/clust.csv', delimiter=',')\n",
    "bmi_all = pd.read_csv('data/bmi/all.pheno', delimiter=' ')\n",
    "bmi_clust = clust.merge(bmi_all, right_on=['IID'], left_on=['Row.names'])\n",
    "bmi_clust['y'].unique()"
   ]
  },
  {
   "cell_type": "code",
   "execution_count": 69,
   "metadata": {},
   "outputs": [],
   "source": [
    "for i in height_clust['y'].unique():\n",
    "    bmi_clust[bmi_clust['y'] == i][['FID', 'IID', 'zscore']].to_csv(f'data/bmi/clust/all_{i}.pheno', sep=' ', index=False)"
   ]
  },
  {
   "cell_type": "code",
   "execution_count": 52,
   "metadata": {},
   "outputs": [
    {
     "data": {
      "text/plain": [
       "array([1, 2, 4, 5, 3, 7, 6, 8])"
      ]
     },
     "execution_count": 52,
     "metadata": {},
     "output_type": "execute_result"
    }
   ],
   "source": [
    "data = pd.read_csv('data/raw_clean_id.tsv', delimiter='\\t')\n",
    "data_clust = data.merge(clust, right_on=['Row.names'], left_on=['clean_id'])\n",
    "data_clust['y'].unique()"
   ]
  },
  {
   "cell_type": "code",
   "execution_count": 60,
   "metadata": {},
   "outputs": [],
   "source": [
    "def plot_height(data):\n",
    "    pheno_male = data[data['Пол'] == 'Мужской'][['ID', 'Вес', 'Рост', 'Полных лет']].copy()\n",
    "    pheno_female = data[data['Пол'] == 'Женский'][['ID', 'Вес', 'Рост', 'Полных лет']].copy()\n",
    "    fig, (ax1, ax2) = plt.subplots(2, 1, figsize=(8, 8))\n",
    "    fig.suptitle('Height of participans')\n",
    "    ax1.scatter(np.arange(len(pheno_male)), pheno_male['Рост'], label='Male', c='#1f77b4')\n",
    "    ax1.set_title('Male')\n",
    "    ax1.set_ylabel('Height')\n",
    "    ax2.scatter(np.arange(len(pheno_female)), pheno_female['Рост'], label='Female', c='#ff7f0e')\n",
    "    ax2.set_title('Female')\n",
    "    ax2.set_ylabel('Height')\n",
    "    plt.show()"
   ]
  },
  {
   "cell_type": "code",
   "execution_count": 61,
   "metadata": {},
   "outputs": [
    {
     "data": {
      "image/png": "[encoded data removed]",
      "text/plain": [
       "<Figure size 576x576 with 2 Axes>"
      ]
     },
     "metadata": {
      "needs_background": "light"
     },
     "output_type": "display_data"
    }
   ],
   "source": [
    "clust_3=data_clust[(data_clust['y']==3)]\n",
    "plot_height(clust_3)"
   ]
  },
  {
   "cell_type": "code",
   "execution_count": 64,
   "metadata": {},
   "outputs": [
    {
     "name": "stdout",
     "output_type": "stream",
     "text": [
      "                                     Наименование файла         ID  \\\n",
      "2113    4030965.mm2.sortdup.bqsr.HaplotypeCaller.vcf.gz    4030965   \n",
      "2153  4030965V2.mm2.sortdup.bqsr.HaplotypeCaller.vcf.gz  4030965V2   \n",
      "2187  4030965V3.mm2.sortdup.bqsr.HaplotypeCaller.vcf.gz  4030965V3   \n",
      "\n",
      "     Направление  Вес  Рост  Полных лет  Пол   clean_id  Row.names ethnic  \\\n",
      "2113     Удалить  NaN   NaN         NaN  NaN    4030965    4030965    Rus   \n",
      "2153     Удалить  NaN   NaN         NaN  NaN  4030965V2  4030965V2    Rus   \n",
      "2187     Удалить  NaN   NaN         NaN  NaN  4030965V3  4030965V3    Rus   \n",
      "\n",
      "            V2        V3  y  \n",
      "2113 -0.123699 -0.019612  7  \n",
      "2153 -0.123173 -0.019970  7  \n",
      "2187 -0.123173 -0.019970  7  \n"
     ]
    },
    {
     "data": {
      "image/png": "[encoded data removed]",
      "text/plain": [
       "<Figure size 576x576 with 2 Axes>"
      ]
     },
     "metadata": {
      "needs_background": "light"
     },
     "output_type": "display_data"
    },
    {
     "data": {
      "image/png": "[encoded data removed]",
      "text/plain": [
       "<Figure size 576x576 with 2 Axes>"
      ]
     },
     "metadata": {
      "needs_background": "light"
     },
     "output_type": "display_data"
    }
   ],
   "source": [
    "print(data_clust[(data_clust['y']==7)])\n",
    "plot_height(data_clust[(data_clust['y']==6)])\n",
    "plot_height(data_clust[(data_clust['y']==8)])"
   ]
  },
  {
   "cell_type": "code",
   "execution_count": 13,
   "metadata": {},
   "outputs": [
    {
     "data": {
      "text/plain": [
       "array([1, 2, 3])"
      ]
     },
     "execution_count": 13,
     "metadata": {},
     "output_type": "execute_result"
    }
   ],
   "source": [
    "clust = pd.read_csv('data/population/clust_some.tsv', delimiter=',')\n",
    "height_all = pd.read_csv('data/height/all.pheno', delimiter=' ')\n",
    "height_clust = clust.merge(height_all, right_on=['IID'], left_on=['Row.names'])\n",
    "height_clust['cluster'].unique()"
   ]
  },
  {
   "cell_type": "code",
   "execution_count": 14,
   "metadata": {},
   "outputs": [],
   "source": [
    "for i in height_clust['cluster'].unique():\n",
    "    height_clust[height_clust['cluster'] == i][['FID', 'IID', 'zscore']].to_csv(f'data/height/clust_some/all_{i}.pheno', sep=' ', index=False)"
   ]
  },
  {
   "cell_type": "code",
   "execution_count": 15,
   "metadata": {},
   "outputs": [
    {
     "data": {
      "text/plain": [
       "array([1, 2, 3])"
      ]
     },
     "execution_count": 15,
     "metadata": {},
     "output_type": "execute_result"
    }
   ],
   "source": [
    "clust = pd.read_csv('data/population/clust_some.tsv', delimiter=',')\n",
    "height_all = pd.read_csv('data/bmi/all.pheno', delimiter=' ')\n",
    "height_clust = clust.merge(height_all, right_on=['IID'], left_on=['Row.names'])\n",
    "height_clust['cluster'].unique()"
   ]
  },
  {
   "cell_type": "code",
   "execution_count": 16,
   "metadata": {},
   "outputs": [],
   "source": [
    "for i in height_clust['cluster'].unique():\n",
    "    height_clust[height_clust['cluster'] == i][['FID', 'IID', 'zscore']].to_csv(f'data/bmi/clust_some/all_{i}.pheno', sep=' ', index=False)"
   ]
  }
 ],
 "metadata": {
  "kernelspec": {
   "display_name": "Python 3",
   "language": "python",
   "name": "python3"
  },
  "language_info": {
   "codemirror_mode": {
    "name": "ipython",
    "version": 3
   },
   "file_extension": ".py",
   "mimetype": "text/x-python",
   "name": "python",
   "nbconvert_exporter": "python",
   "pygments_lexer": "ipython3",
   "version": "3.8.5"
  }
 },
 "nbformat": 4,
 "nbformat_minor": 5
}
